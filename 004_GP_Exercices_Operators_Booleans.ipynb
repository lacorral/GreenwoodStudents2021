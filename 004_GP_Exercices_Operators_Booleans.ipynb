{
 "cells": [
  {
   "cell_type": "markdown",
   "metadata": {},
   "source": [
    "# Exercices\n",
    "\n",
    "We will learn How to:\n",
    "- Manipulate Boolean values with Boolean operators\n",
    "- Convert Booleans to other types\n",
    "- Convert other types to Python Booleans\n",
    "- Use Python Booleans to write efficient and readable Python code\n",
    "---"
   ]
  },
  {
   "cell_type": "markdown",
   "metadata": {},
   "source": [
    "## Question 1\n",
    "\n",
    "Display the type of the built-in boolean value <code>True</code>"
   ]
  },
  {
   "cell_type": "markdown",
   "metadata": {},
   "source": [
    "## Question 2\n",
    "\n",
    "Display all possible combination of the two python built-in boolean values with operator <code>and</code>"
   ]
  },
  {
   "cell_type": "markdown",
   "metadata": {},
   "source": [
    "## Question 3\n",
    "\n",
    "Display all possible combination of the two python built-in boolean values with operator <code>or</code>"
   ]
  },
  {
   "cell_type": "markdown",
   "metadata": {},
   "source": [
    "## Question 4\n",
    "\n",
    "Let's consider a list of even numbers inferior to 10.\n",
    "\n",
    "Check if all elements of list are positive numbers."
   ]
  },
  {
   "cell_type": "markdown",
   "metadata": {},
   "source": [
    "## Question 5\n",
    "\n",
    "From previous lsit\n",
    "\n",
    "Check if any element of list is equal  to 4."
   ]
  },
  {
   "cell_type": "markdown",
   "metadata": {},
   "source": [
    "## Question 6\n",
    "\n",
    "From previous list\n",
    "\n",
    "Check if all elements are postive and inferior to 100."
   ]
  },
  {
   "cell_type": "markdown",
   "metadata": {},
   "source": [
    "## Question 7\n",
    "\n",
    "From previous list\n",
    "\n",
    "Check if 100 is in list."
   ]
  },
  {
   "cell_type": "markdown",
   "metadata": {},
   "source": [
    "## Question 8\n",
    "\n",
    "From previous list\n",
    "\n",
    "Check if 8 is in list."
   ]
  },
  {
   "cell_type": "markdown",
   "metadata": {},
   "source": [
    "## Question 9\n",
    "\n",
    "Check if 100 is dividible by 10 ( division rest is 0 )"
   ]
  },
  {
   "cell_type": "markdown",
   "metadata": {},
   "source": [
    "## Question 10\n",
    "\n",
    "Write a simple code where a user inputs his age and you evaluate if he is elligible to vote\n",
    "\n",
    "Age must be higher than 23"
   ]
  },
  {
   "cell_type": "markdown",
   "metadata": {},
   "source": [
    "## Question 11\n",
    "\n",
    "Evaluate if 20 is divisible by 4 and 5"
   ]
  },
  {
   "cell_type": "markdown",
   "metadata": {},
   "source": [
    "## Question 12\n",
    "\n",
    "Evaluate if 20 is divisible by 2,4,5,10"
   ]
  },
  {
   "cell_type": "markdown",
   "metadata": {},
   "source": [
    "## Question 13\n",
    "\n",
    "Check if letter \"a\" is present at least 3 times in string :\"abcdefahijklanopqrstuvwxyz\""
   ]
  },
  {
   "cell_type": "markdown",
   "metadata": {},
   "source": [
    "## Question 14\n",
    "\n",
    "A sam string is a string writes the same if we reverse it\n",
    "\n",
    "Check if these strings are sam:\n",
    "\n",
    "'abdecfkje'\n",
    "'klmmlk'\n",
    "'kodalladok'"
   ]
  },
  {
   "cell_type": "markdown",
   "metadata": {},
   "source": [
    "## Quesiton 15\n",
    "\n",
    "Check if list first and last elements are multiple of 10 or 15\n",
    "\n",
    "[30,45,3560,435,5490]"
   ]
  },
  {
   "cell_type": "markdown",
   "metadata": {},
   "source": [
    "## Good job!"
   ]
  }
 ],
 "metadata": {
  "kernelspec": {
   "display_name": "Python 3",
   "language": "python",
   "name": "python3"
  },
  "language_info": {
   "codemirror_mode": {
    "name": "ipython",
    "version": 3
   },
   "file_extension": ".py",
   "mimetype": "text/x-python",
   "name": "python",
   "nbconvert_exporter": "python",
   "pygments_lexer": "ipython3",
   "version": "3.8.6"
  }
 },
 "nbformat": 4,
 "nbformat_minor": 5
}
