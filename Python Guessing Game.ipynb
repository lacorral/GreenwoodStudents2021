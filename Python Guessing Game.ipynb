{
 "cells": [
  {
   "cell_type": "markdown",
   "id": "92ec4f1f",
   "metadata": {},
   "source": [
    "# Python guessing game\n",
    "## Mini Project 1"
   ]
  },
  {
   "cell_type": "markdown",
   "id": "40381faf",
   "metadata": {},
   "source": [
    "First we're going to import a useful library that will allow us to randomize numbers."
   ]
  },
  {
   "cell_type": "code",
   "execution_count": null,
   "id": "e70061d2",
   "metadata": {},
   "outputs": [],
   "source": [
    "import random"
   ]
  },
  {
   "cell_type": "markdown",
   "id": "ee5b13c6",
   "metadata": {},
   "source": [
    "Create a list of integers between 1 and 10"
   ]
  },
  {
   "cell_type": "code",
   "execution_count": null,
   "id": "d9f353f8",
   "metadata": {},
   "outputs": [],
   "source": [
    "numbers = "
   ]
  },
  {
   "cell_type": "markdown",
   "id": "22f61cad",
   "metadata": {},
   "source": [
    "Now we'll create a variable that will select a random value from our list."
   ]
  },
  {
   "cell_type": "code",
   "execution_count": null,
   "id": "ff31a59f",
   "metadata": {},
   "outputs": [],
   "source": [
    "guess = random.choice(numbers)"
   ]
  },
  {
   "cell_type": "markdown",
   "id": "f34e5ddf",
   "metadata": {},
   "source": [
    "Create a boolean variable that will determine if you made the correct guess. What do you think it should be set to **before** guessing?"
   ]
  },
  {
   "cell_type": "code",
   "execution_count": null,
   "id": "9b73da28",
   "metadata": {},
   "outputs": [],
   "source": []
  },
  {
   "cell_type": "markdown",
   "id": "cbae80e1",
   "metadata": {},
   "source": [
    "Next you will need to create a loop that will persist as long as you have not guessed correctly"
   ]
  },
  {
   "cell_type": "markdown",
   "id": "e2613fa2",
   "metadata": {},
   "source": [
    "After each iteration you will need to print a prompt that will ask the user for a number between 1 and 10. After answering you will need if statements to compare your guess to the user input. If your answer is too high or too low, please print out a respond informing so, and if the guess is correct, change the boolean value so that the loop will end and let the user know!"
   ]
  },
  {
   "cell_type": "code",
   "execution_count": null,
   "id": "15ee69c2",
   "metadata": {},
   "outputs": [],
   "source": []
  },
  {
   "cell_type": "markdown",
   "id": "92b7459c",
   "metadata": {},
   "source": [
    "<div class=\"alert alert-block alert-success\">\n",
    "<b>Challenge:</b>Create a guessing game where you only have 3 guesses. If the user runs out of guesses, the game is over!\n",
    "</div>"
   ]
  },
  {
   "cell_type": "code",
   "execution_count": null,
   "id": "0d31c3f8",
   "metadata": {},
   "outputs": [],
   "source": []
  }
 ],
 "metadata": {
  "kernelspec": {
   "display_name": "Python 3 (ipykernel)",
   "language": "python",
   "name": "python3"
  },
  "language_info": {
   "codemirror_mode": {
    "name": "ipython",
    "version": 3
   },
   "file_extension": ".py",
   "mimetype": "text/x-python",
   "name": "python",
   "nbconvert_exporter": "python",
   "pygments_lexer": "ipython3",
   "version": "3.9.6"
  }
 },
 "nbformat": 4,
 "nbformat_minor": 5
}
