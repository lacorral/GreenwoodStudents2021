{
 "cells": [
  {
   "cell_type": "markdown",
   "metadata": {},
   "source": [
    "# GreenWood Project - Python Exercices: \n",
    "\n",
    "## Lists/tuples/Dictionnaries\n",
    "---"
   ]
  },
  {
   "cell_type": "code",
   "execution_count": 2,
   "metadata": {},
   "outputs": [],
   "source": [
    "import random\n",
    "import pandas as pd\n",
    "random.seed(55)"
   ]
  },
  {
   "cell_type": "markdown",
   "metadata": {},
   "source": [
    "### Question 1\n",
    "\n",
    "x is an integer.\n",
    "Return x with its digits reversed\n",
    "\n",
    "345 --> 543"
   ]
  },
  {
   "cell_type": "markdown",
   "metadata": {},
   "source": [
    "### Question 2\n",
    "\n",
    "Given a list, return <code>true</code> if any value appears at least three times in list.\n"
   ]
  },
  {
   "cell_type": "code",
   "execution_count": 4,
   "metadata": {},
   "outputs": [
    {
     "data": {
      "text/plain": [
       "[2, 4, 3, 5, 2, 3, 5, 2, 6, 11, 8, 9, 7, 7, 9]"
      ]
     },
     "execution_count": 4,
     "metadata": {},
     "output_type": "execute_result"
    }
   ],
   "source": [
    "lst = [random.randrange(1, 12, 1) for i in range(15)]\n",
    "lst"
   ]
  },
  {
   "cell_type": "markdown",
   "metadata": {},
   "source": [
    "### Question 3\n",
    "\n",
    "Given two integer lists , return a list of their intersection. Each element in the result must be unique."
   ]
  },
  {
   "cell_type": "code",
   "execution_count": 7,
   "metadata": {},
   "outputs": [
    {
     "data": {
      "text/plain": [
       "([7, 6, 7, 9, 1, 5, 1, 4, 9, 1], [19, 15, 8, 2, 13, 8, 3, 17])"
      ]
     },
     "execution_count": 7,
     "metadata": {},
     "output_type": "execute_result"
    }
   ],
   "source": [
    "lst_1 = [random.randrange(1, 10, 1) for i in range(10)]\n",
    "lst_2 = [random.randrange(1, 20, 1) for i in range(8)]\n",
    "lst_1,lst_2"
   ]
  },
  {
   "cell_type": "markdown",
   "metadata": {},
   "source": [
    "### Question 4\n",
    "\n",
    "Given a list, Build a data type where each value of our list refers to the number of its occurences\n",
    "\n",
    "<code>lst = [2,3,2] ; data ={2:2,3:1}</code>\n",
    "\n",
    "Hence, 2 shows up 2 times and 3 shows up 1 time."
   ]
  },
  {
   "cell_type": "code",
   "execution_count": 13,
   "metadata": {},
   "outputs": [
    {
     "data": {
      "text/plain": [
       "[3, 7, 2, 2, 3, 4, 8, 2]"
      ]
     },
     "execution_count": 13,
     "metadata": {},
     "output_type": "execute_result"
    }
   ],
   "source": [
    "lst = [random.randrange(0,10, 1) for i in range(8)]\n",
    "lst"
   ]
  },
  {
   "cell_type": "markdown",
   "metadata": {},
   "source": [
    "### Question 5\n",
    "\n",
    "Given a list, build a new list where we substract the product of the first and the last element from each element."
   ]
  },
  {
   "cell_type": "code",
   "execution_count": 16,
   "metadata": {},
   "outputs": [
    {
     "data": {
      "text/plain": [
       "[3, 1, 2, 5, 1, 6, 5, 5, 3, 6]"
      ]
     },
     "execution_count": 16,
     "metadata": {},
     "output_type": "execute_result"
    }
   ],
   "source": [
    "lst = [random.randrange(0,7, 1) for i in range(10)]\n",
    "lst"
   ]
  },
  {
   "cell_type": "markdown",
   "metadata": {},
   "source": [
    "### Question 6\n",
    "\n",
    "Write a Python script to concatenate following dictionaries to create a new one"
   ]
  },
  {
   "cell_type": "code",
   "execution_count": 18,
   "metadata": {},
   "outputs": [],
   "source": [
    "dict1={1:10, 2:20}\n",
    "dict2={3:30, 4:40}"
   ]
  },
  {
   "cell_type": "markdown",
   "metadata": {},
   "source": [
    "### Question 7\n",
    "\n",
    "Write a Python program to multiply all the items in a dictionary.\n"
   ]
  },
  {
   "cell_type": "code",
   "execution_count": 21,
   "metadata": {},
   "outputs": [],
   "source": [
    "dict3 = {1: 10, 2: 20, 3: 30, 4: 40}"
   ]
  },
  {
   "cell_type": "markdown",
   "metadata": {},
   "source": [
    "### Question 8\n",
    "\n",
    "Convert dictionnary of list into list of lists"
   ]
  },
  {
   "cell_type": "code",
   "execution_count": 16,
   "metadata": {},
   "outputs": [],
   "source": [
    "d = {'a' : [1, 0, 2], 'c' : [4, 2], 'b' : [1, 2]}"
   ]
  },
  {
   "cell_type": "markdown",
   "metadata": {},
   "source": [
    "### Question 9\n",
    "\n",
    "Convert 2D list into 1D list"
   ]
  },
  {
   "cell_type": "code",
   "execution_count": 18,
   "metadata": {},
   "outputs": [],
   "source": [
    "lst = [[1, 0, 2], [4, 2], [1, 2]]"
   ]
  },
  {
   "cell_type": "markdown",
   "metadata": {},
   "source": [
    "### Question 10\n",
    "\n",
    " Extract Unique values from dictionary values"
   ]
  },
  {
   "cell_type": "code",
   "execution_count": 24,
   "metadata": {},
   "outputs": [],
   "source": [
    "d = {'a' : [0, 11, 12, 8],\n",
    "             'c' : [10, 2, 9, 12],\n",
    "             'e' : [1, 8, 12, 8],\n",
    "             'b' : [1, 1, 5]}"
   ]
  },
  {
   "cell_type": "markdown",
   "metadata": {},
   "source": [
    "### Question 11\n",
    "\n",
    "Build an adequate data type where the target currencies are linked to their relative pairs.\n",
    "\n",
    "Example:\n",
    "<code> 'CAD': 'CAD/JPY','CAD/CHF'</code>,..."
   ]
  },
  {
   "cell_type": "code",
   "execution_count": 23,
   "metadata": {},
   "outputs": [],
   "source": [
    "currs = [\"AUD/CAD\",\"CHF/JPY\",\"EUR/NZD\",\"GBP/JPY\",\"TRY/JPY\",\"USD/NOK\",\"AUD/CHF\",\"EUR/AUD\",\"EUR/SEK\",\"GBP/NZD\",\"USD/CAD\",\n",
    "\"USD/SEK\",\"AUD/JPY\",\"EUR/CAD\",\"EUR/TRY\",\"GBP/USD\",\"USD/CHF\",\"USD/TRY\",\"AUD/NZD\",\"EUR/CHF\",\"EUR/USD\",\"NZD/CAD\",\n",
    "\"USD/CNH\",\"USD/ZAR\",\"AUD/USD\",\"EUR/GBP\",\"GBP/AUD\",\"NZD/CHF\",\"USD/HKD\",\"ZAR/JPY\",\"CAD/CHF\",\"EUR/JPY\",\"GBP/CAD\",\n",
    "\"NZD/JPY\",\"USD/JPY\",\"CAD/JPY\",\"EUR/NOK\",\"GBP/CHF\",\"NZD/USD\",\"USD/MXN\"]\n",
    "\n",
    "target = ['CAD','NZD','USD','AUD']"
   ]
  },
  {
   "cell_type": "markdown",
   "metadata": {},
   "source": [
    "### Question 12\n",
    "\n",
    "Let's consider 5 companies with their relative revenues, expenses and currency for each one.\n",
    "\n",
    "1. Build an adequate data type to store all of these informations"
   ]
  },
  {
   "cell_type": "code",
   "execution_count": 27,
   "metadata": {},
   "outputs": [],
   "source": [
    "companies =('A','C','D','B','E')\n",
    "revenues = (3.18E12,7.22E9,6.54E11,5.12E10,4.89E9)\n",
    "expenses = (8.18E5,9.22E7,9.54E11,6.12E12,9.11E10)\n",
    "currencies = ('EUR','JPY','GBP','USD','CAD')"
   ]
  },
  {
   "cell_type": "markdown",
   "metadata": {},
   "source": [
    "### Question 13\n",
    "\n",
    "Result data are such as\n",
    "<code> result = revenues - expenses</code>\n",
    "\n",
    "Add result data."
   ]
  },
  {
   "cell_type": "markdown",
   "metadata": {},
   "source": [
    "## Question 14\n",
    "\n",
    "Add new result data in USD where conversion rates are:\n",
    "\n",
    "* USD/EUR: 0.85\n",
    "* USD/JPY: 1.21\n",
    "* USD/GBP: 0.81\n",
    "* USD/CAD: 0.92"
   ]
  },
  {
   "cell_type": "code",
   "execution_count": 31,
   "metadata": {},
   "outputs": [],
   "source": [
    "rates = [0.85,1.21,0.81,1,0.92]"
   ]
  },
  {
   "cell_type": "markdown",
   "metadata": {},
   "source": [
    "## Great job!"
   ]
  }
 ],
 "metadata": {
  "kernelspec": {
   "display_name": "Python 3",
   "language": "python",
   "name": "python3"
  },
  "language_info": {
   "codemirror_mode": {
    "name": "ipython",
    "version": 3
   },
   "file_extension": ".py",
   "mimetype": "text/x-python",
   "name": "python",
   "nbconvert_exporter": "python",
   "pygments_lexer": "ipython3",
   "version": "3.8.3"
  }
 },
 "nbformat": 4,
 "nbformat_minor": 5
}
